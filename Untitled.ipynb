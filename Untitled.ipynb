{
 "cells": [
  {
   "cell_type": "code",
   "execution_count": 1,
   "metadata": {},
   "outputs": [
    {
     "name": "stdout",
     "output_type": "stream",
     "text": [
      "Collecting request\n",
      "  Downloading request-2020.7.1.tar.gz (1.3 kB)\n",
      "Collecting get\n",
      "  Downloading get-2020.7.1.tar.gz (1.4 kB)\n",
      "Collecting post\n",
      "  Downloading post-2020.7.1.tar.gz (1.3 kB)\n",
      "Collecting query-string\n",
      "  Downloading query-string-2020.7.1.tar.gz (1.6 kB)\n",
      "Using legacy setup.py install for request, since package 'wheel' is not installed.\n",
      "Using legacy setup.py install for get, since package 'wheel' is not installed.\n",
      "Using legacy setup.py install for post, since package 'wheel' is not installed.\n",
      "Using legacy setup.py install for query-string, since package 'wheel' is not installed.\n",
      "Installing collected packages: query-string, get, post, request\n",
      "    Running setup.py install for query-string: started\n",
      "    Running setup.py install for query-string: finished with status 'done'\n",
      "    Running setup.py install for get: started\n",
      "    Running setup.py install for get: finished with status 'done'\n",
      "    Running setup.py install for post: started\n",
      "    Running setup.py install for post: finished with status 'done'\n",
      "    Running setup.py install for request: started\n",
      "    Running setup.py install for request: finished with status 'done'\n",
      "Successfully installed get-0.0.0 post-0.0.0 query-string-0.0.0 request-0.0.0\n"
     ]
    }
   ],
   "source": [
    "!pip install request"
   ]
  },
  {
   "cell_type": "code",
   "execution_count": 2,
   "metadata": {},
   "outputs": [
    {
     "name": "stderr",
     "output_type": "stream",
     "text": [
      "ERROR: Could not find a version that satisfies the requirement os (from versions: none)\n",
      "ERROR: No matching distribution found for os\n"
     ]
    }
   ],
   "source": [
    "!pip install os"
   ]
  },
  {
   "cell_type": "code",
   "execution_count": null,
   "metadata": {},
   "outputs": [],
   "source": []
  }
 ],
 "metadata": {
  "kernelspec": {
   "display_name": "Python 3",
   "language": "python",
   "name": "python3"
  },
  "language_info": {
   "codemirror_mode": {
    "name": "ipython",
    "version": 3
   },
   "file_extension": ".py",
   "mimetype": "text/x-python",
   "name": "python",
   "nbconvert_exporter": "python",
   "pygments_lexer": "ipython3",
   "version": "3.8.3"
  }
 },
 "nbformat": 4,
 "nbformat_minor": 4
}
